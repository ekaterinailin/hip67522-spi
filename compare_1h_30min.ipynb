{
 "cells": [
  {
   "cell_type": "code",
   "execution_count": 15,
   "metadata": {},
   "outputs": [],
   "source": [
    "import pandas as pd\n",
    "import numpy as np\n",
    "import astropy.units as u\n",
    "from astropy.constants import k_B, c, R_sun\n",
    "\n",
    "def brightness_temperature(value, std, radius_rsun, radius_rsun_err, d, d_err):\n",
    "\n",
    "    Sv = value * u.Jy * d**2 / (radius_rsun**2 * R_sun**2)\n",
    "    Tb = (c**2 * Sv  / (np.pi * 2 * (2.1 * u.GHz)**2 * k_B )).to(u.K)   \n",
    "\n",
    "    # error propagation\n",
    "    r = radius_rsun * R_sun\n",
    "    r_err = radius_rsun_err * R_sun\n",
    "    \n",
    "    Sv_err = np.sqrt((d**2 / r**2 * std * u.Jy)**2 + \n",
    "                    (2 * d * value * u.Jy / r**2 * d_err)**2 + \n",
    "                    (2 * value * u.Jy * d**2 / r**3 * r_err)**2)\n",
    "\n",
    "    Tb_err = (c**2 * Sv_err  / (2 * np.pi * (2.1 * u.GHz)**2 * k_B )).to(u.K)\n",
    "\n",
    "    return Tb.value, Tb_err.value\n"
   ]
  },
  {
   "cell_type": "code",
   "execution_count": 16,
   "metadata": {},
   "outputs": [
    {
     "name": "stdout",
     "output_type": "stream",
     "text": [
      "Quiescent L band flux: 0.207 \\pm 0.007 mJy\n",
      "Quiescent L band luminosity: 3.849e+15 erg / (Hz s) \\pm 1.365e+14 erg / (Hz s)\n",
      "log10 of quiescent luminosity: 15.585 +/- 0.015\n",
      "Number of points above threshold on May 11: 10\n",
      "Max flux in May: 0.686 \\pm 0.0001 mJy\n",
      "Max flux in June: 1.451 \\pm 0.0001 mJy\n",
      "Max luminosity in May: 1.277e+16 erg / (Hz s)\n",
      "Max luminosity in June: 2.699e+16 erg / (Hz s)\n",
      "log10 of max luminosity in May: 16.106\n",
      "log10 of max luminosity in June: 16.431\n",
      "Quiescent brightness temperature: 7.69e+09 \\pm 7.19e+08 K\n",
      "Max brightness temperature in May: 2.55e+10 \\pm 5.8e+09 K\n",
      "Max brightness temperature in June: 5.40e+10 \\pm 5.2e+09 K\n"
     ]
    }
   ],
   "source": [
    "\n",
    "# GET STELLAR PARAMETERS ----------------------------------------------------\n",
    "\n",
    "hip67522_params = pd.read_csv('../data/hip67522_params.csv')\n",
    "radius_rsun = hip67522_params.iloc[4].val\n",
    "radius_rsun_err = hip67522_params.iloc[4].err\n",
    "d = 124.7 * u.pc\n",
    "d_err = 0.3 * u.pc \n",
    "\n",
    "# ---------------------------------------------------------------------------\n",
    "\n",
    "\n",
    "# QUIESCENT LUMINOSITY ------------------------------------------------------\n",
    "\n",
    "all = pd.read_csv('../data/atca_full_integration_time_series.csv')\n",
    "\n",
    "d = 124.7 * u.pc\n",
    "\n",
    "# calculate the quiescent flux density\n",
    "all_except = all[all[\"obsname\"] != \"2024-06-11\"]\n",
    "all_except = all_except[all_except[\"obsname\"] != \"2024-05-11\"]\n",
    "\n",
    "# get the mean and std of the quiescent flux density\n",
    "mean_quiescent = all_except.source_J.mean()\n",
    "std_quiescent = np.sqrt(np.sum(all_except.bkg_rms_J.values**2)) / all_except.shape[0]\n",
    "\n",
    "print(fr\"Quiescent L band flux: {mean_quiescent*1e3:.3f} \\pm {std_quiescent*1e3:.3f} mJy\")\n",
    "\n",
    "\n",
    "# convert erg/s/Hz using d\n",
    "l_mean_quiescent = (mean_quiescent * u.Jy * 4 * np.pi * d**2).to(u.erg / u.s / u.Hz)\n",
    "l_std_quiescent = (std_quiescent * u.Jy * 4 * np.pi * d**2).to(u.erg / u.s / u.Hz)\n",
    "\n",
    "print(fr\"Quiescent L band luminosity: {l_mean_quiescent:.3e} \\pm {l_std_quiescent:.3e}\")\n",
    "\n",
    "# get the log10 of mean quiescent luminosity\n",
    "log10_l_mean_quiescent = np.log10(l_mean_quiescent.value)\n",
    "\n",
    "# get uncertainties in log10\n",
    "uncert_log10_l_mean_quiescent = np.log10((l_mean_quiescent + l_std_quiescent).value) - log10_l_mean_quiescent\n",
    "\n",
    "\n",
    "print(f\"log10 of quiescent luminosity: {log10_l_mean_quiescent:.3f} +/- {uncert_log10_l_mean_quiescent:.3f}\")\n",
    "\n",
    "# -------------------------------------------------------------------------\n",
    "\n",
    "\n",
    "# BURST LUMINOSITIES ------------------------------------------------------\n",
    "\n",
    "all = pd.read_csv(\"../data/all_timeseries.csv\") \n",
    "\n",
    "# the two bursts\n",
    "burstname1 = 20240511\n",
    "burstname2 = 20240611\n",
    "\n",
    "\n",
    "# detection threshold for a burst\n",
    "thresh = mean_quiescent + 3 * std_quiescent\n",
    "\n",
    "# is the May 11 burst above the threshold?\n",
    "n_above = np.where((all.loc[all[\"obsname\"] == burstname1, \"source_J\"] > thresh).values)[0].shape[0]\n",
    "\n",
    "print(f\"Number of points above threshold on May 11: {n_above}\")\n",
    "\n",
    "# get the peak fluxes for May 11 and June 11\n",
    "maxmay = all.loc[all[\"obsname\"] == burstname1, \"source_J\"].max()\n",
    "uncert_maxmay = all.loc[all[\"obsname\"] == burstname1, \"bkg_rms_J\"].max()\n",
    "maxjune = all.loc[all[\"obsname\"] == burstname2, \"source_J\"].max()\n",
    "uncert_maxjune = all.loc[all[\"obsname\"] == burstname2, \"bkg_rms_J\"].max()\n",
    "print(f\"Max flux in May: {maxmay*1e3:.3f} \\pm {uncert_maxmay:.4f} mJy\")\n",
    "print(f\"Max flux in June: {maxjune*1e3:.3f} \\pm {uncert_maxjune:.4f} mJy\")\n",
    "\n",
    "# convert maxmay and maxjune to erg/s/Hz\n",
    "l_maxmay = (maxmay * u.Jy * 4 * np.pi * d**2).to(u.erg / u.s / u.Hz)\n",
    "l_maxjune = (maxjune * u.Jy * 4 * np.pi * d**2).to(u.erg / u.s / u.Hz)\n",
    "\n",
    "print(f\"Max luminosity in May: {l_maxmay:.3e}\")\n",
    "print(f\"Max luminosity in June: {l_maxjune:.3e}\")\n",
    "\n",
    "# get the log10 of max luminosities\n",
    "log10_l_maxmay = np.log10(l_maxmay.value)\n",
    "log10_l_maxjune = np.log10(l_maxjune.value)\n",
    "\n",
    "print(f\"log10 of max luminosity in May: {log10_l_maxmay:.3f}\")\n",
    "print(f\"log10 of max luminosity in June: {log10_l_maxjune:.3f}\")\n",
    "\n",
    "# -------------------------------------------------------------------------\n",
    "\n",
    "\n",
    "# BRIGHTNESS TEMPERATURE ---------------------------------------------------\n",
    "\n",
    "Tb, Tb_err = brightness_temperature(mean_quiescent, std_quiescent, radius_rsun, \n",
    "                                    radius_rsun_err, d, d_err)\n",
    "print(f\"Quiescent brightness temperature: {Tb:.2e} \\pm {Tb_err:.2e} K\")\n",
    "\n",
    "# same for maxmay and maxjune\n",
    "Tb_maxmay, Tb_maxmay_err = brightness_temperature(maxmay, uncert_maxmay, radius_rsun, \n",
    "                                                  radius_rsun_err, d, d_err)\n",
    "Tb_maxjune, Tb_maxjune_err = brightness_temperature(maxjune, uncert_maxjune, radius_rsun, \n",
    "                                                    radius_rsun_err, d, d_err)\n",
    "\n",
    "print(f\"Max brightness temperature in May: {Tb_maxmay:.2e} \\pm {Tb_maxmay_err:.1e} K\")\n",
    "print(f\"Max brightness temperature in June: {Tb_maxjune:.2e} \\pm {Tb_maxjune_err:.1e} K\")\n",
    "\n",
    "# -------------------------------------------------------------------------"
   ]
  },
  {
   "cell_type": "code",
   "execution_count": 10,
   "metadata": {},
   "outputs": [
    {
     "data": {
      "text/latex": [
       "$0.35634744 \\; \\mathrm{\\frac{1}{d}}$"
      ],
      "text/plain": [
       "<Quantity 0.35634744 1 / d>"
      ]
     },
     "execution_count": 10,
     "metadata": {},
     "output_type": "execute_result"
    }
   ],
   "source": [
    "totobsatca = 134.7 * u.hr\n",
    "freq = 2 / totobsatca\n",
    "\n",
    "bolenergy = 1e33 * u.erg\n",
    "\n",
    "xrayenergy = 0.1 * bolenergy\n",
    "\n",
    "freq.to(1/u.d)"
   ]
  },
  {
   "cell_type": "code",
   "execution_count": 11,
   "metadata": {},
   "outputs": [
    {
     "data": {
      "text/plain": [
       "(2.0065974253289562, -2.3699493779231187)"
      ]
     },
     "execution_count": 11,
     "metadata": {},
     "output_type": "execute_result"
    }
   ],
   "source": [
    "p1 = 1.409779\n",
    "p2 = 90 / 60 / 24\n",
    "p2 = 6.9594 /2\n",
    "\n",
    "1 / (1/p1 + 1/p2) * 2, 1 / (1/p2 - 1/p1) "
   ]
  },
  {
   "cell_type": "code",
   "execution_count": 12,
   "metadata": {},
   "outputs": [
    {
     "data": {
      "text/plain": [
       "0.7346938775510203"
      ]
     },
     "execution_count": 12,
     "metadata": {},
     "output_type": "execute_result"
    }
   ],
   "source": [
    "(6/7)**2"
   ]
  },
  {
   "cell_type": "code",
   "execution_count": 13,
   "metadata": {},
   "outputs": [
    {
     "data": {
      "text/plain": [
       "0.008093254216407468"
      ]
     },
     "execution_count": 13,
     "metadata": {},
     "output_type": "execute_result"
    }
   ],
   "source": [
    "(6/7)**6 * (1/7)**2"
   ]
  },
  {
   "cell_type": "code",
   "execution_count": 14,
   "metadata": {},
   "outputs": [
    {
     "name": "stdout",
     "output_type": "stream",
     "text": [
      "Quiescent brightness temperature: 7.69e+09 \\pm 7.19e+08 K\n",
      "Max brightness temperature in May: 2.55e+10 \\pm 5.8e+09 K\n",
      "Max brightness temperature in June: 5.40e+10 \\pm 5.2e+09 K\n"
     ]
    }
   ],
   "source": []
  },
  {
   "cell_type": "code",
   "execution_count": null,
   "metadata": {},
   "outputs": [],
   "source": [
    " 0.295e-3 / (3.14*(1.39*7e10)**2 / (3e18*d)**2) * (3e8/2.1e9)**2 / 2 / 1380 / 1e10\n",
    "\n",
    "value / pi * r^2 / d^2 * c^2 / nu^2 / 2 / kB"
   ]
  },
  {
   "cell_type": "code",
   "execution_count": 22,
   "metadata": {},
   "outputs": [
    {
     "data": {
      "text/latex": [
       "$2.4\\mathrm{{}^{\\prime\\prime}}$"
      ],
      "text/plain": [
       "<Quantity 2.4 arcsec>"
      ]
     },
     "execution_count": 22,
     "metadata": {},
     "output_type": "execute_result"
    }
   ],
   "source": [
    "(4 * u.deg / 6000).to(u.arcsec)"
   ]
  },
  {
   "cell_type": "code",
   "execution_count": 17,
   "metadata": {},
   "outputs": [
    {
     "data": {
      "text/latex": [
       "$1.380649 \\times 10^{-16} \\; \\mathrm{\\frac{erg}{K}}$"
      ],
      "text/plain": [
       "<Quantity 1.380649e-16 erg / K>"
      ]
     },
     "execution_count": 17,
     "metadata": {},
     "output_type": "execute_result"
    }
   ],
   "source": [
    "(3e18 * d.value * u.cm).to(u.pc)\n",
    "k_B.to(u.erg / u.K)"
   ]
  },
  {
   "cell_type": "code",
   "execution_count": 9,
   "metadata": {},
   "outputs": [
    {
     "data": {
      "text/latex": [
       "$29.833807 \\; \\mathrm{arcsec^{2}}$"
      ],
      "text/plain": [
       "<Quantity 29.8338074 arcsec2>"
      ]
     },
     "execution_count": 9,
     "metadata": {},
     "output_type": "execute_result"
    }
   ],
   "source": [
    "beam_major = 7.04 * u.arcsec\n",
    "beam_minor = 3.74 * u.arcsec\n",
    "\n",
    "beam_size = np.pi * beam_major * beam_minor / (4 * np.log(2))\n",
    "beam_size.to(u.arcsec**2)"
   ]
  },
  {
   "cell_type": "code",
   "execution_count": 10,
   "metadata": {},
   "outputs": [
    {
     "data": {
      "text/latex": [
       "$14821.707 \\; \\mathrm{keV}$"
      ],
      "text/plain": [
       "<Quantity 14821.70733273 keV>"
      ]
     },
     "execution_count": 10,
     "metadata": {},
     "output_type": "execute_result"
    }
   ],
   "source": [
    "(Tb_maxjune * u.K * k_B).to(u.keV)"
   ]
  },
  {
   "cell_type": "code",
   "execution_count": 11,
   "metadata": {},
   "outputs": [
    {
     "data": {
      "text/plain": [
       "16.034400000000005"
      ]
     },
     "execution_count": 11,
     "metadata": {},
     "output_type": "execute_result"
    }
   ],
   "source": [
    "(30.76 - 18.97) * 1.36"
   ]
  },
  {
   "cell_type": "markdown",
   "metadata": {},
   "source": []
  },
  {
   "cell_type": "code",
   "execution_count": 12,
   "metadata": {},
   "outputs": [
    {
     "data": {
      "text/plain": [
       "3.1622776601683795e+30"
      ]
     },
     "execution_count": 12,
     "metadata": {},
     "output_type": "execute_result"
    }
   ],
   "source": [
    "10**30.5"
   ]
  },
  {
   "cell_type": "code",
   "execution_count": 13,
   "metadata": {},
   "outputs": [
    {
     "data": {
      "text/plain": [
       "(0.560344827586207, 0.9827586206896552, 1.9827586206896552)"
      ]
     },
     "execution_count": 13,
     "metadata": {},
     "output_type": "execute_result"
    }
   ],
   "source": [
    "6.5/11.6, 11.4/11.6, 23.0/11.6\n"
   ]
  },
  {
   "cell_type": "code",
   "execution_count": 14,
   "metadata": {},
   "outputs": [
    {
     "data": {
      "text/plain": [
       "30.21689437229751"
      ]
     },
     "execution_count": 14,
     "metadata": {},
     "output_type": "execute_result"
    }
   ],
   "source": [
    "np.log10((8.856263118e-13 * u.erg / u.s / u.cm**2 * 4 * np.pi * d**2).to(u.erg / u.s).value)"
   ]
  },
  {
   "cell_type": "code",
   "execution_count": 15,
   "metadata": {},
   "outputs": [
    {
     "data": {
      "text/plain": [
       "0.0004269294742736174"
      ]
     },
     "execution_count": 15,
     "metadata": {},
     "output_type": "execute_result"
    }
   ],
   "source": [
    "import numpy as np\n",
    "1e-14 / (4 * np.pi * d**2)\n",
    "\n",
    "(1e-14 / (4 * np.pi * d.to(\"cm\").value**2)) * 10**52.9"
   ]
  },
  {
   "cell_type": "code",
   "execution_count": 16,
   "metadata": {},
   "outputs": [
    {
     "data": {
      "text/plain": [
       "(3.1622776601683795e+30, 1.6595869074375563e+30)"
      ]
     },
     "execution_count": 16,
     "metadata": {},
     "output_type": "execute_result"
    }
   ],
   "source": [
    "10**30.5, 10**30.22"
   ]
  },
  {
   "cell_type": "code",
   "execution_count": 18,
   "metadata": {},
   "outputs": [
    {
     "data": {
      "text/latex": [
       "$4.8189572 \\times 10^{15} \\; \\mathrm{Jy}$"
      ],
      "text/plain": [
       "<Quantity 4.81895724e+15 Jy>"
      ]
     },
     "execution_count": 18,
     "metadata": {},
     "output_type": "execute_result"
    }
   ],
   "source": [
    "Sv = 3e-4 * u.Jy * d**2 / (radius_rsun**2 * R_sun**2)\n",
    "Sv.to(\"Jy\")"
   ]
  },
  {
   "cell_type": "code",
   "execution_count": 19,
   "metadata": {},
   "outputs": [
    {
     "data": {
      "text/plain": [
       "1.38"
      ]
     },
     "execution_count": 19,
     "metadata": {},
     "output_type": "execute_result"
    }
   ],
   "source": [
    "radius_rsun"
   ]
  },
  {
   "cell_type": "code",
   "execution_count": null,
   "metadata": {},
   "outputs": [],
   "source": []
  }
 ],
 "metadata": {
  "kernelspec": {
   "display_name": "base",
   "language": "python",
   "name": "python3"
  },
  "language_info": {
   "codemirror_mode": {
    "name": "ipython",
    "version": 3
   },
   "file_extension": ".py",
   "mimetype": "text/x-python",
   "name": "python",
   "nbconvert_exporter": "python",
   "pygments_lexer": "ipython3",
   "version": "3.11.7"
  }
 },
 "nbformat": 4,
 "nbformat_minor": 2
}
