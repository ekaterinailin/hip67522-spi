{
 "cells": [
  {
   "cell_type": "code",
   "execution_count": 2,
   "metadata": {},
   "outputs": [],
   "source": [
    "import numpy as np\n",
    "import pandas as pd\n",
    "import matplotlib.pyplot as plt\n",
    "\n",
    "from altaipony.flarelc import FlareLightCurve\n",
    "\n",
    "flux_label = r\"Flux [e$^{-}$/s]\"\n",
    "time_label = \"Time [BJD]\"\n",
    "\n",
    "# load all the file names\n",
    "files = np.loadtxt(\"files.txt\", dtype=str)"
   ]
  },
  {
   "cell_type": "code",
   "execution_count": 9,
   "metadata": {},
   "outputs": [
    {
     "name": "stderr",
     "output_type": "stream",
     "text": [
      "Found 0 candidate(s) in the (0,2339) gap.\n"
     ]
    }
   ],
   "source": [
    "# GET THE DATA ---------------------------------------------------------------\n",
    "\n",
    "# pick a file\n",
    "file = files[6]\n",
    "\n",
    "folder = \"../data/hip67522/pipe_HIP67522/\"\n",
    "\n",
    "# load the detrended data\n",
    "location = f\"{folder}HIP67522_{file[1]}{file[0]}_detrended_lc.csv\"\n",
    "df = pd.read_csv(location)\n",
    "\n",
    "# plt.scatter(df.time, df.flux)\n",
    "\n",
    "# use flag==0 to mask the big flare\n",
    "df = df[df.flag == 0]\n",
    "\n",
    "# plt.scatter(df.time, df.flux, c=\"r\")\n",
    "\n",
    "\n",
    "# FIND FLARES WITH ALTAIPONY ----------------------------------------------------\n",
    "\n",
    "# define flare light curve\n",
    "flc = FlareLightCurve(time = df.time, flux = df.flux, flux_err=np.std(df.flux))\n",
    "flc.detrended_flux = df.flux\n",
    "flc.detrended_flux_err = np.std(df.flux)\n",
    "\n",
    "# find flares\n",
    "flares = flc.find_flares(N1=3, N2=2, N3=3).flares\n"
   ]
  },
  {
   "cell_type": "code",
   "execution_count": 10,
   "metadata": {},
   "outputs": [],
   "source": [
    "%matplotlib inline\n",
    "# PLOT THE FLARE CANDIDATES ----------------------------------------------------------\n",
    "for i, row in flares.iterrows():\n",
    "\n",
    "    plt.figure(figsize=(10, 5))\n",
    "      \n",
    "    # how much to show around the flare\n",
    "    window = 0.04\n",
    "\n",
    "    # flare mask\n",
    "    flare_m = (df.time > (row.tstart - window)) & (df.time < (row.tstop + window))\n",
    "\n",
    "    # apply the mask\n",
    "    tflare = df.time[flare_m].values\n",
    "    fflare = df.flux[flare_m].values\n",
    "    bgflare = df.bg[flare_m].values\n",
    "\n",
    "    # calculate factor to scale the background\n",
    "    rangetflare = np.max(fflare) - np.min(fflare)\n",
    "\n",
    "    # scale the background\n",
    "    bgflare = bgflare*100 + np.median(df.flux)#(bgflare - np.median(bgflare))*rangetflare/10 + np.median(df.flux) + rangetflare\n",
    "\n",
    "    # plot the data\n",
    "    plt.plot(tflare, fflare, \".\", markersize=10, label=\"de-trended flux\")\n",
    "\n",
    "    # now bin the data to show in overlay\n",
    "    binsize = 5\n",
    "\n",
    "    index = tflare.shape[0] % binsize\n",
    "\n",
    "    # drop the last few data points\n",
    "    t1 = tflare[:-index]\n",
    "    f1 = fflare[:-index]\n",
    "\n",
    "    # bin the data\n",
    "    binned_t = np.mean(t1.reshape(-1, binsize), axis=1)\n",
    "    binned_f = np.mean(f1.reshape(-1, binsize), axis=1)\n",
    "\n",
    "    # plot the binned data\n",
    "    plt.plot(binned_t, binned_f, \".-\", markersize=10, color=\"red\", label=\"binned de-trended flux\")\n",
    "\n",
    "    # shade the region of the flare\n",
    "    plt.axvspan(row.tstart, row.tstop, alpha=0.5, color=\"grey\", label=\"flare candidate\")\n",
    "    \n",
    "    plt.plot(tflare, bgflare, color=\"maroon\", label=\"background (x100 + offset)\")\n",
    "\n",
    "    # layout\n",
    "    plt.xlabel(time_label)\n",
    "    plt.ylabel(flux_label)\n",
    "    plt.legend(frameon=False)\n",
    "    plt.xlim(binned_t[0], binned_t[-1])\n",
    "    plt.tight_layout()\n",
    "    # plt.savefig(f\"../plots/paper/false_positive_flare_{file[1]}{file[0]}_{i}.png\")"
   ]
  },
  {
   "cell_type": "code",
   "execution_count": 1,
   "metadata": {},
   "outputs": [
    {
     "data": {
      "text/plain": [
       "0.031536"
      ]
     },
     "execution_count": 1,
     "metadata": {},
     "output_type": "execute_result"
    }
   ],
   "source": [
    "1e-9 * 60 * 60 * 24 * 365"
   ]
  },
  {
   "cell_type": "code",
   "execution_count": null,
   "metadata": {},
   "outputs": [],
   "source": []
  }
 ],
 "metadata": {
  "kernelspec": {
   "display_name": "base",
   "language": "python",
   "name": "python3"
  },
  "language_info": {
   "codemirror_mode": {
    "name": "ipython",
    "version": 3
   },
   "file_extension": ".py",
   "mimetype": "text/x-python",
   "name": "python",
   "nbconvert_exporter": "python",
   "pygments_lexer": "ipython3",
   "version": "3.11.7"
  }
 },
 "nbformat": 4,
 "nbformat_minor": 2
}
